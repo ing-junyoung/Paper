{
 "cells": [
  {
   "cell_type": "code",
   "execution_count": 26,
   "id": "cff189c9",
   "metadata": {},
   "outputs": [],
   "source": [
    "import numpy as np\n",
    "import matplotlib.pyplot as plt\n",
    "from tensorflow.keras.datasets import mnist\n",
    "from tqdm import tqdm\n",
    "import AnoGAN"
   ]
  },
  {
   "cell_type": "code",
   "execution_count": null,
   "id": "83c66418",
   "metadata": {},
   "outputs": [],
   "source": [
    "(X_train, y_train), (X_test, y_test) = mnist.load_data()\n",
    "X_train = X_train.astype(np.float32)/255.\n",
    "X_train = X_train.reshape(60000, 28, 28, 1)\n",
    "\n",
    "\n",
    "Model_d, Model_g = AnoGAN.train(32, X_train)"
   ]
  },
  {
   "cell_type": "code",
   "execution_count": null,
   "id": "3c468adf",
   "metadata": {},
   "outputs": [],
   "source": [
    "## generate random image \n",
    "\n",
    "generated_img = AnoGAN.generate(3)\n",
    "plt.figure(figsize=(2, 2))\n",
    "plt.imshow(generated_img[0].reshape(28, 28),cmap=plt.cm.gray)\n",
    "plt.show()"
   ]
  },
  {
   "cell_type": "code",
   "execution_count": null,
   "id": "b6f91efd",
   "metadata": {},
   "outputs": [],
   "source": [
    "X_test = X_test.astype(np.float32)/255.\n",
    "X_test = X_test.reshape(-1, 28, 28, 1)\n",
    "test_img = X_test[0]\n",
    "\n",
    "model = AnoGAN.anomaly_detector()\n",
    "ano_score, similar_img = AnoGAN.compute_anomaly_score(model, test_img.reshape(1, 28, 28, 1))\n",
    "\n",
    "plt.figure(figsize=(2, 2))\n",
    "plt.imshow(test_img.reshape(28,28), cmap=plt.cm.gray)\n",
    "plt.show()\n",
    "print(\"anomaly score : \" + str(ano_score))\n",
    "plt.figure(figsize=(2, 2))\n",
    "plt.imshow(test_img.reshape(28,28), cmap=plt.cm.gray)\n",
    "residual  = test_img.reshape(28,28) - similar_img.reshape(28, 28)\n",
    "plt.imshow(residual, cmap='jet', alpha=.5)\n",
    "plt.show()"
   ]
  },
  {
   "cell_type": "code",
   "execution_count": null,
   "id": "d4d57716",
   "metadata": {},
   "outputs": [],
   "source": [
    "test_img = plt.imread('./Supplement/test_img.png')\n",
    "test_img = test_img[:,:,0]\n",
    "\n",
    "model = AnoGAN.anomaly_detector()\n",
    "ano_score, similar_img = AnoGAN.compute_anomaly_score(model, test_img.reshape(1, 28, 28, 1))\n",
    "\n",
    "plt.figure(figsize=(2, 2))\n",
    "plt.imshow(test_img.reshape(28,28), cmap=plt.cm.gray)\n",
    "plt.show()\n",
    "print(\"anomaly score : \" + str(ano_score))\n",
    "plt.figure(figsize=(2, 2))\n",
    "plt.imshow(test_img.reshape(28,28), cmap=plt.cm.gray)\n",
    "residual  = test_img.reshape(28,28) - similar_img.reshape(28, 28)\n",
    "plt.imshow(residual, cmap='jet', alpha=.5)\n",
    "plt.show()"
   ]
  }
 ],
 "metadata": {
  "kernelspec": {
   "display_name": "pytorch",
   "language": "python",
   "name": "pytorch"
  },
  "language_info": {
   "codemirror_mode": {
    "name": "ipython",
    "version": 3
   },
   "file_extension": ".py",
   "mimetype": "text/x-python",
   "name": "python",
   "nbconvert_exporter": "python",
   "pygments_lexer": "ipython3",
   "version": "3.7.9"
  }
 },
 "nbformat": 4,
 "nbformat_minor": 5
}
